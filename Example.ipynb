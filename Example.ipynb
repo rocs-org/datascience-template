{
 "cells": [
  {
   "cell_type": "code",
   "execution_count": null,
   "id": "e00a1c1e-2ec3-47c1-af19-ced74e491674",
   "metadata": {},
   "outputs": [
    {
     "name": "stderr",
     "output_type": "stream",
     "text": [
      "/home/jovyan/datascience-template/datascience_template/load_from_postgres.py:44: UserWarning: pandas only supports SQLAlchemy connectable (engine/connection) or database string URI or sqlite3 DBAPI2 connection. Other DBAPI2 objects are not tested. Please consider using SQLAlchemy.\n",
      "  return pd.read_sql(query, conn)\n"
     ]
    }
   ],
   "source": [
    "from datascience_template import query_df\n",
    "from psycopg.sql import SQL\n",
    "\n",
    "# query rhr relative to reported tests\n",
    "\n",
    "df = query_df(SQL(\n",
    "    \"\"\"\n",
    "    select v.user_id, v.value_minus_mean_from_value_minus_mean as rhr, (v.date - t.test_week_start) as day, t.f10 test_result\n",
    "    from datenspende_derivatives.homogenized_features t, datenspende_derivatives.vitals_std_by_date_and_user_before_infection v\n",
    "    where \n",
    "        v.user_id = t.user_id and\n",
    "        v.type = 65 and\n",
    "        v.date > t.test_week_start - 10 AND\n",
    "        v.date < t.test_week_start + 50\n",
    "    \"\"\"))\n",
    "df"
   ]
  },
  {
   "cell_type": "code",
   "execution_count": null,
   "id": "7c96a3b9-4155-4277-8418-ed542ad604bd",
   "metadata": {},
   "outputs": [],
   "source": [
    "df.info()"
   ]
  },
  {
   "cell_type": "code",
   "execution_count": null,
   "id": "9daf383d-82f2-4d8b-9cc3-7094402dd83e",
   "metadata": {},
   "outputs": [],
   "source": [
    "import seaborn as sns\n",
    "\n",
    "sns.lineplot(data=df, x='day', y='rhr', hue='test_result')"
   ]
  },
  {
   "cell_type": "code",
   "execution_count": null,
   "id": "441adcf9-fb5d-4448-ad17-998829eddda0",
   "metadata": {},
   "outputs": [],
   "source": []
  }
 ],
 "metadata": {
  "kernelspec": {
   "display_name": "Python (datascience-template)",
   "language": "python",
   "name": "datascience-template"
  },
  "language_info": {
   "codemirror_mode": {
    "name": "ipython",
    "version": 3
   },
   "file_extension": ".py",
   "mimetype": "text/x-python",
   "name": "python",
   "nbconvert_exporter": "python",
   "pygments_lexer": "ipython3",
   "version": "3.10.6"
  }
 },
 "nbformat": 4,
 "nbformat_minor": 5
}
